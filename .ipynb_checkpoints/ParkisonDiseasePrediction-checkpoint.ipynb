{
 "cells": [
  {
   "cell_type": "code",
   "execution_count": 1,
   "metadata": {},
   "outputs": [],
   "source": [
    "# Imports\n",
    "\n",
    "import numpy as np\n",
    "import pandas as pd"
   ]
  },
  {
   "cell_type": "code",
   "execution_count": 2,
   "metadata": {
    "scrolled": true
   },
   "outputs": [
    {
     "name": "stdout",
     "output_type": "stream",
     "text": [
      "Number of Instances: 195 , Number of Features: 24\n",
      "\n"
     ]
    },
    {
     "data": {
      "text/html": [
       "<div>\n",
       "<style scoped>\n",
       "    .dataframe tbody tr th:only-of-type {\n",
       "        vertical-align: middle;\n",
       "    }\n",
       "\n",
       "    .dataframe tbody tr th {\n",
       "        vertical-align: top;\n",
       "    }\n",
       "\n",
       "    .dataframe thead th {\n",
       "        text-align: right;\n",
       "    }\n",
       "</style>\n",
       "<table border=\"1\" class=\"dataframe\">\n",
       "  <thead>\n",
       "    <tr style=\"text-align: right;\">\n",
       "      <th></th>\n",
       "      <th>name</th>\n",
       "      <th>MDVP:Fo(Hz)</th>\n",
       "      <th>MDVP:Fhi(Hz)</th>\n",
       "      <th>MDVP:Flo(Hz)</th>\n",
       "      <th>MDVP:Jitter(%)</th>\n",
       "      <th>MDVP:Jitter(Abs)</th>\n",
       "      <th>MDVP:RAP</th>\n",
       "      <th>MDVP:PPQ</th>\n",
       "      <th>Jitter:DDP</th>\n",
       "      <th>MDVP:Shimmer</th>\n",
       "      <th>...</th>\n",
       "      <th>Shimmer:DDA</th>\n",
       "      <th>NHR</th>\n",
       "      <th>HNR</th>\n",
       "      <th>status</th>\n",
       "      <th>RPDE</th>\n",
       "      <th>DFA</th>\n",
       "      <th>spread1</th>\n",
       "      <th>spread2</th>\n",
       "      <th>D2</th>\n",
       "      <th>PPE</th>\n",
       "    </tr>\n",
       "  </thead>\n",
       "  <tbody>\n",
       "    <tr>\n",
       "      <th>0</th>\n",
       "      <td>phon_R01_S01_1</td>\n",
       "      <td>119.992</td>\n",
       "      <td>157.302</td>\n",
       "      <td>74.997</td>\n",
       "      <td>0.00784</td>\n",
       "      <td>0.00007</td>\n",
       "      <td>0.00370</td>\n",
       "      <td>0.00554</td>\n",
       "      <td>0.01109</td>\n",
       "      <td>0.04374</td>\n",
       "      <td>...</td>\n",
       "      <td>0.06545</td>\n",
       "      <td>0.02211</td>\n",
       "      <td>21.033</td>\n",
       "      <td>1</td>\n",
       "      <td>0.414783</td>\n",
       "      <td>0.815285</td>\n",
       "      <td>-4.813031</td>\n",
       "      <td>0.266482</td>\n",
       "      <td>2.301442</td>\n",
       "      <td>0.284654</td>\n",
       "    </tr>\n",
       "    <tr>\n",
       "      <th>1</th>\n",
       "      <td>phon_R01_S01_2</td>\n",
       "      <td>122.400</td>\n",
       "      <td>148.650</td>\n",
       "      <td>113.819</td>\n",
       "      <td>0.00968</td>\n",
       "      <td>0.00008</td>\n",
       "      <td>0.00465</td>\n",
       "      <td>0.00696</td>\n",
       "      <td>0.01394</td>\n",
       "      <td>0.06134</td>\n",
       "      <td>...</td>\n",
       "      <td>0.09403</td>\n",
       "      <td>0.01929</td>\n",
       "      <td>19.085</td>\n",
       "      <td>1</td>\n",
       "      <td>0.458359</td>\n",
       "      <td>0.819521</td>\n",
       "      <td>-4.075192</td>\n",
       "      <td>0.335590</td>\n",
       "      <td>2.486855</td>\n",
       "      <td>0.368674</td>\n",
       "    </tr>\n",
       "    <tr>\n",
       "      <th>2</th>\n",
       "      <td>phon_R01_S01_3</td>\n",
       "      <td>116.682</td>\n",
       "      <td>131.111</td>\n",
       "      <td>111.555</td>\n",
       "      <td>0.01050</td>\n",
       "      <td>0.00009</td>\n",
       "      <td>0.00544</td>\n",
       "      <td>0.00781</td>\n",
       "      <td>0.01633</td>\n",
       "      <td>0.05233</td>\n",
       "      <td>...</td>\n",
       "      <td>0.08270</td>\n",
       "      <td>0.01309</td>\n",
       "      <td>20.651</td>\n",
       "      <td>1</td>\n",
       "      <td>0.429895</td>\n",
       "      <td>0.825288</td>\n",
       "      <td>-4.443179</td>\n",
       "      <td>0.311173</td>\n",
       "      <td>2.342259</td>\n",
       "      <td>0.332634</td>\n",
       "    </tr>\n",
       "    <tr>\n",
       "      <th>3</th>\n",
       "      <td>phon_R01_S01_4</td>\n",
       "      <td>116.676</td>\n",
       "      <td>137.871</td>\n",
       "      <td>111.366</td>\n",
       "      <td>0.00997</td>\n",
       "      <td>0.00009</td>\n",
       "      <td>0.00502</td>\n",
       "      <td>0.00698</td>\n",
       "      <td>0.01505</td>\n",
       "      <td>0.05492</td>\n",
       "      <td>...</td>\n",
       "      <td>0.08771</td>\n",
       "      <td>0.01353</td>\n",
       "      <td>20.644</td>\n",
       "      <td>1</td>\n",
       "      <td>0.434969</td>\n",
       "      <td>0.819235</td>\n",
       "      <td>-4.117501</td>\n",
       "      <td>0.334147</td>\n",
       "      <td>2.405554</td>\n",
       "      <td>0.368975</td>\n",
       "    </tr>\n",
       "    <tr>\n",
       "      <th>4</th>\n",
       "      <td>phon_R01_S01_5</td>\n",
       "      <td>116.014</td>\n",
       "      <td>141.781</td>\n",
       "      <td>110.655</td>\n",
       "      <td>0.01284</td>\n",
       "      <td>0.00011</td>\n",
       "      <td>0.00655</td>\n",
       "      <td>0.00908</td>\n",
       "      <td>0.01966</td>\n",
       "      <td>0.06425</td>\n",
       "      <td>...</td>\n",
       "      <td>0.10470</td>\n",
       "      <td>0.01767</td>\n",
       "      <td>19.649</td>\n",
       "      <td>1</td>\n",
       "      <td>0.417356</td>\n",
       "      <td>0.823484</td>\n",
       "      <td>-3.747787</td>\n",
       "      <td>0.234513</td>\n",
       "      <td>2.332180</td>\n",
       "      <td>0.410335</td>\n",
       "    </tr>\n",
       "  </tbody>\n",
       "</table>\n",
       "<p>5 rows × 24 columns</p>\n",
       "</div>"
      ],
      "text/plain": [
       "             name  MDVP:Fo(Hz)  MDVP:Fhi(Hz)  MDVP:Flo(Hz)  MDVP:Jitter(%)  \\\n",
       "0  phon_R01_S01_1      119.992       157.302        74.997         0.00784   \n",
       "1  phon_R01_S01_2      122.400       148.650       113.819         0.00968   \n",
       "2  phon_R01_S01_3      116.682       131.111       111.555         0.01050   \n",
       "3  phon_R01_S01_4      116.676       137.871       111.366         0.00997   \n",
       "4  phon_R01_S01_5      116.014       141.781       110.655         0.01284   \n",
       "\n",
       "   MDVP:Jitter(Abs)  MDVP:RAP  MDVP:PPQ  Jitter:DDP  MDVP:Shimmer  ...  \\\n",
       "0           0.00007   0.00370   0.00554     0.01109       0.04374  ...   \n",
       "1           0.00008   0.00465   0.00696     0.01394       0.06134  ...   \n",
       "2           0.00009   0.00544   0.00781     0.01633       0.05233  ...   \n",
       "3           0.00009   0.00502   0.00698     0.01505       0.05492  ...   \n",
       "4           0.00011   0.00655   0.00908     0.01966       0.06425  ...   \n",
       "\n",
       "   Shimmer:DDA      NHR     HNR  status      RPDE       DFA   spread1  \\\n",
       "0      0.06545  0.02211  21.033       1  0.414783  0.815285 -4.813031   \n",
       "1      0.09403  0.01929  19.085       1  0.458359  0.819521 -4.075192   \n",
       "2      0.08270  0.01309  20.651       1  0.429895  0.825288 -4.443179   \n",
       "3      0.08771  0.01353  20.644       1  0.434969  0.819235 -4.117501   \n",
       "4      0.10470  0.01767  19.649       1  0.417356  0.823484 -3.747787   \n",
       "\n",
       "    spread2        D2       PPE  \n",
       "0  0.266482  2.301442  0.284654  \n",
       "1  0.335590  2.486855  0.368674  \n",
       "2  0.311173  2.342259  0.332634  \n",
       "3  0.334147  2.405554  0.368975  \n",
       "4  0.234513  2.332180  0.410335  \n",
       "\n",
       "[5 rows x 24 columns]"
      ]
     },
     "execution_count": 2,
     "metadata": {},
     "output_type": "execute_result"
    }
   ],
   "source": [
    "# Read Data\n",
    "\n",
    "df = pd.read_csv('parkinsons.data')\n",
    "print(\"Number of Instances: {} , Number of Features: {}\\n\".format(df.shape[0], df.shape[1]))\n",
    "df.head()"
   ]
  },
  {
   "cell_type": "code",
   "execution_count": 3,
   "metadata": {},
   "outputs": [],
   "source": [
    "# Get the features and labels data\n",
    "X = df.loc[:,df.columns != 'status'].values[:,1:]\n",
    "Y = df.loc[:,'status'].values"
   ]
  },
  {
   "cell_type": "code",
   "execution_count": 4,
   "metadata": {},
   "outputs": [],
   "source": [
    "from sklearn.preprocessing import MinMaxScaler\n",
    "\n",
    "# Scaling features for later viewing\n",
    "scaler = MinMaxScaler()\n",
    "X = scaler.fit_transform(X)"
   ]
  },
  {
   "cell_type": "code",
   "execution_count": 5,
   "metadata": {},
   "outputs": [],
   "source": [
    "from sklearn.decomposition import PCA\n",
    "\n",
    "# PCA Projection to 2D. Trying to understand if there is a pattern in behavior\n",
    "pca = PCA(n_components = 2)\n",
    "principalComponents = pca.fit_transform(X)\n",
    "\n",
    "principalComponents = pd.DataFrame(data = principalComponents)"
   ]
  },
  {
   "cell_type": "code",
   "execution_count": 12,
   "metadata": {},
   "outputs": [
    {
     "data": {
      "image/png": "[encoded data removed]",
      "text/plain": [
       "<Figure size 576x576 with 1 Axes>"
      ]
     },
     "metadata": {
      "needs_background": "light"
     },
     "output_type": "display_data"
    }
   ],
   "source": [
    "import matplotlib.pyplot as plt\n",
    "#%matplotlib qt\n",
    "%matplotlib inline\n",
    "\n",
    "# Trying to understand data through visualization\n",
    "\n",
    "fig = plt.figure(figsize=(8,8))\n",
    "ax = fig.add_subplot(111)\n",
    "\n",
    "targets = [0,1]\n",
    "colors = ['g', 'r']\n",
    "\n",
    "for target, color in zip(targets,colors):\n",
    "    indices = [index for index, value in enumerate(Y) if value == target]\n",
    "    ax.scatter(principalComponents.loc[indices, 0], principalComponents.loc[indices, 1], c = color, s = 10)\n",
    "\n",
    "ax.legend(targets)\n",
    "ax.grid()"
   ]
  },
  {
   "cell_type": "code",
   "execution_count": 51,
   "metadata": {},
   "outputs": [
    {
     "name": "stdout",
     "output_type": "stream",
     "text": [
      "Shape:\n",
      "\n",
      "Train (117, 22)\n",
      "CV    (39, 22)\n",
      "Test  (39, 22)\n",
      "\n"
     ]
    }
   ],
   "source": [
    "# Split data into training, cross-validation and test data\n",
    "# 60% for training, 20% for cross-validation and 20% for test\n",
    "\n",
    "from sklearn.model_selection import train_test_split\n",
    "\n",
    "train_data, evaluation_data, train_label, evaluation_label = train_test_split(X, Y, test_size = 0.4, random_state = 7)\n",
    "\n",
    "cv_data, test_data, cv_label,test_label = train_test_split(evaluation_data, evaluation_label, test_size = 0.5, random_state = 4)\n",
    "\n",
    "print(\"Shape:\\n\\n\\\n",
    "Train {}\\n\\\n",
    "CV    {}\\n\\\n",
    "Test  {}\\n\".format(train_data.shape, cv_data.shape, test_data.shape))"
   ]
  },
  {
   "cell_type": "code",
   "execution_count": 39,
   "metadata": {},
   "outputs": [
    {
     "name": "stdout",
     "output_type": "stream",
     "text": [
      "Score for train data           : 85.47%\n",
      "Score for cross-validation data: 84.62%\n",
      "Score for test data            : 76.92%\n"
     ]
    }
   ],
   "source": [
    "from sklearn.linear_model import LogisticRegression\n",
    "from sklearn.metrics import accuracy_score\n",
    "\n",
    "logisticRegr = LogisticRegression(solver='liblinear', random_state=0)\n",
    "logisticRegr.fit(train_data, train_label)\n",
    "\n",
    "print(\"Score for train data           : {:.2f}%\".format(logisticRegr.score(train_data,train_label)*100))\n",
    "print(\"Score for cross-validation data: {:.2f}%\".format(logisticRegr.score(cv_data, cv_label     )*100))\n",
    "print(\"Score for test data            : {:.2f}%\".format(logisticRegr.score(test_data, test_label )*100))"
   ]
  },
  {
   "cell_type": "markdown",
   "metadata": {},
   "source": [
    "The model shows no signs of underfitting or overfitting\n",
    "\n",
    "<font size=\"3\">The accuracy of the model is 84.62% in the cross-validation data and 76.92% in the test data, but this is a case where accuracy may not be the best metric to evaluate the model. So, let’s take a look at the other evaluation metrics.</font>"
   ]
  },
  {
   "cell_type": "code",
   "execution_count": 37,
   "metadata": {},
   "outputs": [
    {
     "name": "stdout",
     "output_type": "stream",
     "text": [
      "Accuracy Score  : 0.8461538461538461\n",
      "Precision Score : 0.9032258064516129\n",
      "Recall Score    : 0.9032258064516129\n",
      "F1 Score        : 0.9032258064516129\n"
     ]
    },
    {
     "data": {
      "image/png": "[encoded data removed]",
      "text/plain": [
       "<Figure size 432x288 with 2 Axes>"
      ]
     },
     "metadata": {
      "needs_background": "light"
     },
     "output_type": "display_data"
    }
   ],
   "source": [
    "# Model Evaluation metrics \n",
    "from sklearn.metrics import accuracy_score, recall_score, precision_score, f1_score, confusion_matrix\n",
    "\n",
    "predicted = logisticRegr.predict(cv_data)\n",
    "\n",
    "print('Accuracy Score  : ' + str( accuracy_score(cv_label,predicted)))\n",
    "print('Precision Score : ' + str(precision_score(cv_label,predicted)))\n",
    "print('Recall Score    : ' + str(   recall_score(cv_label,predicted)))\n",
    "print('F1 Score        : ' + str(       f1_score(cv_label,predicted)))\n",
    "\n",
    "import matplotlib.pyplot as plt\n",
    "import seaborn as sn\n",
    "\n",
    "confusion_matrix = pd.crosstab(cv_label, predicted, rownames=['Actual'], colnames=['Predicted'])\n",
    "sn.heatmap(confusion_matrix, annot=True)\n",
    "plt.show()\n"
   ]
  },
  {
   "cell_type": "markdown",
   "metadata": {},
   "source": [
    "<font size=\"3\">Looking at the instances classified incorrectly, we can see that **3 cases were classified incorrectly as people not having Parkinson's (false negatives)**. And, 3 cases were incorrectly classified as having Parkison (false positive).</font>\n",
    "\n",
    "<font size=\"3\">A false negative is more serious as a disease has been ignored, **which can lead to the death of the patient**. At the same time, a false positive would lead to an **unnecessary treatment - incurring additional cost**.</font>\n",
    "\n",
    "<font size=\"3\"> One thing that can be useful in this case is an error analysis. We can try categorize the situations where the hypothesis makes incorrect predictions. One hypothesis would be to add more training data to cover this situation or add features that cover this situation. However, this dataset is from the Internet, there is no direct way to change the dataset.</font>\n",
    "\n",
    "<font size=\"3\">Therefore, an alternative is try to minimize the false negatives by using **Grid Search** to find the optimal parameters. Grid search can be used to improve any specific evaluation metric. Grid search builds a model for every combination of hyperparameters specified and evaluates each model.</font>"
   ]
  },
  {
   "cell_type": "code",
   "execution_count": 89,
   "metadata": {},
   "outputs": [
    {
     "name": "stdout",
     "output_type": "stream",
     "text": [
      "Accuracy Score  : 0.8461538461538461\n",
      "Precision Score : 0.9032258064516129\n",
      "Recall Score    : 0.9032258064516129\n",
      "F1 Score        : 0.9032258064516129\n"
     ]
    },
    {
     "data": {
      "image/png": "[encoded data removed]",
      "text/plain": [
       "<Figure size 432x288 with 2 Axes>"
      ]
     },
     "metadata": {
      "needs_background": "light"
     },
     "output_type": "display_data"
    }
   ],
   "source": [
    "from sklearn.model_selection import GridSearchCV\n",
    "\n",
    "grid_values = {'penalty'        : ['l1', 'l2'],\n",
    "                'C'             : [0.001,.009,0.01,.09,1,5,10,25, 50, 100]\n",
    "              }\n",
    "\n",
    "\n",
    "gs_cls = GridSearchCV(logisticRegr, param_grid = grid_values,scoring = 'f1')\n",
    "gs_cls.fit(train_data, train_label)\n",
    "\n",
    "#Predict values based on new parameters\n",
    "gs_predicted = gs_cls.predict(cv_data)\n",
    "\n",
    "# New Model Evaluation metrics \n",
    "print('Accuracy Score  : ' + str( accuracy_score(cv_label,gs_predicted)))\n",
    "print('Precision Score : ' + str(precision_score(cv_label,gs_predicted)))\n",
    "print('Recall Score    : ' + str(   recall_score(cv_label,gs_predicted)))\n",
    "print('F1 Score        : ' + str(       f1_score(cv_label,gs_predicted)))\n",
    "\n",
    "#Logistic Regression (Grid Search) Confusion matrix\n",
    "confusion_matrix = pd.crosstab(cv_label, gs_predicted, rownames=['Actual'], colnames=['Predicted'])\n",
    "sn.heatmap(confusion_matrix, annot=True)\n",
    "plt.show()"
   ]
  },
  {
   "cell_type": "markdown",
   "metadata": {},
   "source": [
    "<font size=\"3\">If **recall** is used as a parameter to be improved, it is possible to eliminate all false negatives, however what the model does is classify all samples as having Parkison.</font>\n",
    "\n",
    "<font size=\"3\">If **F1 Score** is used as a parameter to be improved, seeking to eliminate the ignored Parkison patients and eliminate the costs of unnecessary treatments, it does not show any difference in relation to the hyper parameters used by Logistic Regression.</font>\n",
    "\n",
    "<font size=\"3\">A more efficient technique for hyperparameter tuning is the Randomized search — where random combinations of the hyperparameters are used to find the best solution.</font>"
   ]
  },
  {
   "cell_type": "code",
   "execution_count": 93,
   "metadata": {},
   "outputs": [
    {
     "name": "stdout",
     "output_type": "stream",
     "text": [
      "Accuracy Score  : 0.8461538461538461\n",
      "Precision Score : 0.9032258064516129\n",
      "Recall Score    : 0.9032258064516129\n",
      "F1 Score        : 0.9032258064516129\n"
     ]
    },
    {
     "data": {
      "image/png": "[encoded data removed]",
      "text/plain": [
       "<Figure size 432x288 with 2 Axes>"
      ]
     },
     "metadata": {
      "needs_background": "light"
     },
     "output_type": "display_data"
    }
   ],
   "source": [
    "from sklearn.model_selection import RandomizedSearchCV\n",
    "\n",
    "grid_values = {'penalty'        : ['l1', 'l2'],\n",
    "                'C'             : [0.001,.009,0.01,.09,1,5,10,25, 50, 100]\n",
    "              }\n",
    "\n",
    "\n",
    "gs_cls = GridSearchCV(logisticRegr, param_grid = grid_values,scoring = 'f1')\n",
    "gs_cls.fit(train_data, train_label)\n",
    "\n",
    "#Predict values based on new parameters\n",
    "gs_predicted = gs_cls.predict(cv_data)\n",
    "\n",
    "# New Model Evaluation metrics \n",
    "print('Accuracy Score  : ' + str( accuracy_score(cv_label,gs_predicted)))\n",
    "print('Precision Score : ' + str(precision_score(cv_label,gs_predicted)))\n",
    "print('Recall Score    : ' + str(   recall_score(cv_label,gs_predicted)))\n",
    "print('F1 Score        : ' + str(       f1_score(cv_label,gs_predicted)))\n",
    "\n",
    "#Logistic Regression (Grid Search) Confusion matrix\n",
    "confusion_matrix = pd.crosstab(cv_label, gs_predicted, rownames=['Actual'], colnames=['Predicted'])\n",
    "sn.heatmap(confusion_matrix, annot=True)\n",
    "plt.show()"
   ]
  },
  {
   "cell_type": "markdown",
   "metadata": {},
   "source": [
    "<font size=\"3\">Randomized Search also shows no signs of improving hyper parameters.</font>"
   ]
  }
 ],
 "metadata": {
  "kernelspec": {
   "display_name": "Python 3",
   "language": "python",
   "name": "python3"
  },
  "language_info": {
   "codemirror_mode": {
    "name": "ipython",
    "version": 3
   },
   "file_extension": ".py",
   "mimetype": "text/x-python",
   "name": "python",
   "nbconvert_exporter": "python",
   "pygments_lexer": "ipython3",
   "version": "3.6.9"
  }
 },
 "nbformat": 4,
 "nbformat_minor": 4
}
